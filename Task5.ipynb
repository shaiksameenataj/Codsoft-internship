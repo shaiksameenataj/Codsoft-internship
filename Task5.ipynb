{
 "cells": [
  {
   "cell_type": "code",
   "execution_count": 1,
   "id": "1a940f71-6e2a-43b9-b5a8-94f2484cb9f5",
   "metadata": {},
   "outputs": [
    {
     "name": "stdout",
     "output_type": "stream",
     "text": [
      "Main Menu:\n",
      "1. Add Contact\n",
      "2. View Contact List\n",
      "3. Search Contact\n",
      "4. Update Contact\n",
      "5. Delete Contact\n",
      "6. Exit\n"
     ]
    },
    {
     "name": "stdin",
     "output_type": "stream",
     "text": [
      "Enter your choice:  6\n"
     ]
    },
    {
     "name": "stdout",
     "output_type": "stream",
     "text": [
      "Goodbye!\n"
     ]
    }
   ],
   "source": [
    "import os\n",
    "\n",
    "# Contact class\n",
    "class Contact:\n",
    "    def __init__(self, name, phone_number, email, address):\n",
    "        self.name = name\n",
    "        self.phone_number = phone_number\n",
    "        self.email = email\n",
    "        self.address = address\n",
    "\n",
    "# Contact list\n",
    "contacts = []\n",
    "\n",
    "# Add contact function\n",
    "def add_contact():\n",
    "    name = input(\"Enter contact name: \")\n",
    "    phone_number = input(\"Enter phone number: \")\n",
    "    email = input(\"Enter email: \")\n",
    "    address = input(\"Enter address: \")\n",
    "    contact = Contact(name, phone_number, email, address)\n",
    "    contacts.append(contact)\n",
    "    print(\"Contact added successfully!\")\n",
    "\n",
    "# View contact list function\n",
    "def view_contact_list():\n",
    "    print(\"Contact List:\")\n",
    "    for contact in contacts:\n",
    "        print(f\"{contact.name} - {contact.phone_number}\")\n",
    "\n",
    "# Search contact function\n",
    "def search_contact():\n",
    "    query = input(\"Enter search query (name or phone number): \")\n",
    "    results = [contact for contact in contacts if query in contact.name or query in contact.phone_number]\n",
    "    if results:\n",
    "        print(\"Search results:\")\n",
    "        for contact in results:\n",
    "            print(f\"{contact.name} - {contact.phone_number}\")\n",
    "    else:\n",
    "        print(\"No results found.\")\n",
    "\n",
    "# Update contact function\n",
    "def update_contact():\n",
    "    name_or_phone_number = input(\"Enter contact name or phone number to update: \")\n",
    "    for contact in contacts:\n",
    "        if name_or_phone_number in contact.name or name_or_phone_number in contact.phone_number:\n",
    "            contact.name = input(\"Enter new name: \")\n",
    "            contact.phone_number = input(\"Enter new phone number: \")\n",
    "            contact.email = input(\"Enter new email: \")\n",
    "            contact.address = input(\"Enter new address: \")\n",
    "            print(\"Contact updated successfully!\")\n",
    "            return\n",
    "    print(\"Contact not found.\")\n",
    "\n",
    "# Delete contact function\n",
    "def delete_contact():\n",
    "    name_or_phone_number = input(\"Enter contact name or phone number to delete: \")\n",
    "    for contact in contacts:\n",
    "        if name_or_phone_number in contact.name or name_or_phone_number in contact.phone_number:\n",
    "            contacts.remove(contact)\n",
    "            print(\"Contact deleted successfully!\")\n",
    "            return\n",
    "    print(\"Contact not found.\")\n",
    "\n",
    "# Main function\n",
    "def main():\n",
    "    while True:\n",
    "        print(\"Main Menu:\")\n",
    "        print(\"1. Add Contact\")\n",
    "        print(\"2. View Contact List\")\n",
    "        print(\"3. Search Contact\")\n",
    "        print(\"4. Update Contact\")\n",
    "        print(\"5. Delete Contact\")\n",
    "        print(\"6. Exit\")\n",
    "        choice = input(\"Enter your choice: \")\n",
    "        if choice == \"1\":\n",
    "            add_contact()\n",
    "        elif choice == \"2\":\n",
    "            view_contact_list()\n",
    "        elif choice == \"3\":\n",
    "            search_contact()\n",
    "        elif choice == \"4\":\n",
    "            update_contact()\n",
    "        elif choice == \"5\":\n",
    "            delete_contact()\n",
    "        elif choice == \"6\":\n",
    "            print(\"Goodbye!\")\n",
    "            break\n",
    "        else:\n",
    "            print(\"Invalid choice. Please try again.\")\n",
    "\n",
    "if __name__ == \"__main__\":\n",
    "    main()"
   ]
  },
  {
   "cell_type": "code",
   "execution_count": null,
   "id": "1a238c7e-f9fa-4eb3-9a08-ca9421009741",
   "metadata": {},
   "outputs": [],
   "source": []
  }
 ],
 "metadata": {
  "kernelspec": {
   "display_name": "Python 3 (ipykernel)",
   "language": "python",
   "name": "python3"
  },
  "language_info": {
   "codemirror_mode": {
    "name": "ipython",
    "version": 3
   },
   "file_extension": ".py",
   "mimetype": "text/x-python",
   "name": "python",
   "nbconvert_exporter": "python",
   "pygments_lexer": "ipython3",
   "version": "3.12.4"
  }
 },
 "nbformat": 4,
 "nbformat_minor": 5
}
